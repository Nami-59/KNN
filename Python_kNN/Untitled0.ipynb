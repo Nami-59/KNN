{
  "nbformat": 4,
  "nbformat_minor": 0,
  "metadata": {
    "colab": {
      "provenance": [],
      "authorship_tag": "ABX9TyN0LSSfVBPLJzOEO0T5Lwsl",
      "include_colab_link": true
    },
    "kernelspec": {
      "name": "python3",
      "display_name": "Python 3"
    },
    "language_info": {
      "name": "python"
    }
  },
  "cells": [
    {
      "cell_type": "markdown",
      "metadata": {
        "id": "view-in-github",
        "colab_type": "text"
      },
      "source": [
        "<a href=\"https://colab.research.google.com/github/Nami-59/KNN/blob/main/Python_kNN/Untitled0.ipynb\" target=\"_parent\"><img src=\"https://colab.research.google.com/assets/colab-badge.svg\" alt=\"Open In Colab\"/></a>"
      ]
    },
    {
      "cell_type": "code",
      "execution_count": 1,
      "metadata": {
        "id": "zulYbi7wD1jE"
      },
      "outputs": [],
      "source": [
        "import numpy as np\n",
        "import pandas as pd"
      ]
    },
    {
      "cell_type": "code",
      "source": [
        "data = pd.read_csv('ISiT(Answers).csv', sep=';', encoding='utf-8')"
      ],
      "metadata": {
        "id": "JaZXb9R3EEY1"
      },
      "execution_count": 5,
      "outputs": []
    },
    {
      "cell_type": "code",
      "source": [
        "data = data.iloc[:,1:]\n",
        "\n",
        "# При нормализации ошибка прогноза становится увеличивается, т.е. алгоритм работает хуже\n",
        "#data_y = data['Кофе или чай?']\n",
        "#data = data.iloc[:,:9]\n",
        "#data = (data-data.min())/(data.max()-data.min())"
      ],
      "metadata": {
        "id": "l8U5iRKA1msp"
      },
      "execution_count": 6,
      "outputs": []
    },
    {
      "cell_type": "code",
      "source": [
        "#data['Кофе или чай?'] = data_y\n",
        "#data"
      ],
      "metadata": {
        "id": "u_IKA2JfPaf9"
      },
      "execution_count": null,
      "outputs": []
    },
    {
      "cell_type": "code",
      "source": [
        "# разделение выборки на тестовую и обучающую\n",
        "size=26\n",
        "data_train = data.iloc[:size,:]\n",
        "x_train = data_train.values\n",
        "\n",
        "data_test = data.iloc[size:,:]\n",
        "x_test = data_test.values\n"
      ],
      "metadata": {
        "id": "mWGUmRnpS9Cz"
      },
      "execution_count": 7,
      "outputs": []
    },
    {
      "cell_type": "code",
      "source": [
        "def minKowski_distance(data_1, data_2, p): # метрика Миньковского\n",
        "  distance = 0\n",
        "  for i in range(len(data_1) - 1):\n",
        "    distance += (abs(data_1[i] - data_2[i])) ** p\n",
        "  return distance ** (1/p)"
      ],
      "metadata": {
        "id": "GprAVD-rP9ir"
      },
      "execution_count": 8,
      "outputs": []
    },
    {
      "cell_type": "code",
      "source": [
        "def get_neighbors(test, train, p, k):\n",
        "\n",
        "    distances = [(train[i][-1], minKowski_distance(train[i], test, p))\n",
        "                  for i in range(len(train))] # расстояние тестовых до каждого обучающего элемента\n",
        "    distances.sort(key=lambda elem: elem[1])\n",
        "    k = min(k, len(distances))\n",
        "    neighbors = [distances[i][0] for i in range(k)] # ближайшие соседи, до которых расстояние мин., из них и предсказывается значение\n",
        "\n",
        "    return neighbors"
      ],
      "metadata": {
        "id": "h0INHpzFTE-e"
      },
      "execution_count": 91,
      "outputs": []
    },
    {
      "cell_type": "code",
      "source": [
        "def prediction(neighbors): # предсказание\n",
        "  count = {}\n",
        "  for instance in neighbors: # считается кол-во наибольших соседей из классов (пример: если мин. расстояние до 3х чаев и 2х кофе, то предскажется чай)\n",
        "     if instance in count:\n",
        "        count[instance] +=1\n",
        "     else :\n",
        "        count[instance] = 1\n",
        "  result = max(count.items(), key=lambda x: x[1])[0]\n",
        "  return result"
      ],
      "metadata": {
        "id": "YrpDxyu-TbKN"
      },
      "execution_count": 10,
      "outputs": []
    },
    {
      "cell_type": "code",
      "source": [
        "def error(test, test_pred): # ошибка прогноза\n",
        "    correct = 0\n",
        "    for i in range(len(test)):\n",
        "        if test[i][-1] == test_pred[i]:\n",
        "            correct += 1\n",
        "    return 1-(correct/len(test))"
      ],
      "metadata": {
        "id": "Myz0ChNO-EZy"
      },
      "execution_count": 11,
      "outputs": []
    },
    {
      "cell_type": "code",
      "source": [
        "def predict(p, k, x_test, x_train): # вычисление ошибки и прогноз\n",
        "  predictions = []\n",
        "  for x in range(len(x_test)):\n",
        "    neighbors = get_neighbors(x_test[x], x_train, p, k)\n",
        "    result = prediction(neighbors)\n",
        "    predictions.append(result)\n",
        "   # print(f'Предсказание = {result}, Исходное = {x_test[x][-1]}')\n",
        "\n",
        "  error_1 = error(x_test, predictions)\n",
        "  return error_1, predictions"
      ],
      "metadata": {
        "id": "H2S-Wct73a1R"
      },
      "execution_count": 92,
      "outputs": []
    },
    {
      "cell_type": "code",
      "source": [
        "def res(p, k, x_test, x_train): # находит оптимальные k по мин. ошибке прогноза для каждой p\n",
        "  k_opt = []\n",
        "  error_opt = []\n",
        "  k_opt_new = 0\n",
        "  error_opt_new = 0\n",
        "  for i in range(1,p):\n",
        "    k_opt.append(k_opt_new)\n",
        "    error_opt.append(error_opt_new)\n",
        "  # print()\n",
        " #  print(f'Метрика порядка p: {i}') # если хотите просмотреть всю прогонку\n",
        "#   print()\n",
        "    error_opt_new = 1.1\n",
        "    for j in range(1,k):\n",
        "   #    print(f'Общие соседи k: {j}') # если хотите посмотреть всю прогонку каждого k\n",
        "        error_k, pred = predict(i,j,x_test,x_train)\n",
        "        if error_opt_new > error_k: # мин ошибка для нахождения мин k\n",
        "          error_opt_new = error_k\n",
        "          k_opt_new = j\n",
        "    #   print(f'Error: {error_k}') # если хотите посмотреть всю прогонку каждой ошибки для k и p\n",
        "\n",
        "  k_opt.append(k_opt_new)\n",
        "  k_opt.pop(0)\n",
        "  error_opt.append(error_opt_new)\n",
        "  error_opt.pop(0)\n",
        "\n",
        "  return k_opt, error_opt"
      ],
      "metadata": {
        "id": "IBkdINp44C1E"
      },
      "execution_count": 93,
      "outputs": []
    },
    {
      "cell_type": "code",
      "source": [
        "def optimization(p, k, x_test, x_train): # выбор оптимального p при минимальной ошибке\n",
        "  k_opt, error_opt = res(p, k, x_test, x_train)\n",
        "#  print(f'k оптим. соседей для каждого p : {k_opt}')\n",
        " # print(f'Ошибка при данном k : {error_opt}')\n",
        "  index = error_opt.index(min(error_opt))\n",
        "  p_opt_min = index + 1\n",
        "  k_opt_min = k_opt[index]\n",
        "  error_opt_min = error_opt[index]\n",
        "\n",
        "  return p_opt_min, k_opt_min, error_opt_min"
      ],
      "metadata": {
        "id": "XAydiTVLQCwK"
      },
      "execution_count": 78,
      "outputs": []
    },
    {
      "cell_type": "code",
      "source": [
        "p = 10\n",
        "k = 10\n",
        "p_opt_min, k_opt_min, error_opt_min = optimization(p, k, x_test, x_train)\n",
        "print('Оптимальная система: ')\n",
        "print()\n",
        "print(f'Оптимальное наименьшее p: {p_opt_min}')\n",
        "print(f'Оптимальное k соседей: {k_opt_min}')\n",
        "print(f'Ошибка прогноза: {error_opt_min}')"
      ],
      "metadata": {
        "colab": {
          "base_uri": "https://localhost:8080/"
        },
        "id": "57PHPe65SoDR",
        "outputId": "7b88bd02-1250-43a3-8dd2-ee26fbb7c5fa"
      },
      "execution_count": 98,
      "outputs": [
        {
          "output_type": "stream",
          "name": "stdout",
          "text": [
            "Оптимальная система: \n",
            "\n",
            "Оптимальное наименьшее p: 2\n",
            "Оптимальное k соседей: 4\n",
            "Ошибка прогноза: 0.1333333333333333\n"
          ]
        }
      ]
    },
    {
      "cell_type": "code",
      "source": [
        "print('Манхэттенская метрика p = 1, k = 4')\n",
        "print()\n",
        "error_ma, pred = predict(1, 4, x_test, x_train)\n",
        "\n",
        "for i in range(0,len(pred)):\n",
        "  print(f'Предсказание = {pred[i]}, Исходное = {x_test[i][9]}')\n",
        "\n",
        "print(f'Error: {error_ma}')"
      ],
      "metadata": {
        "colab": {
          "base_uri": "https://localhost:8080/"
        },
        "id": "Wrv_irP1-bit",
        "outputId": "1d6854c9-5da9-4fab-b3f6-0a906196bac4"
      },
      "execution_count": 95,
      "outputs": [
        {
          "output_type": "stream",
          "name": "stdout",
          "text": [
            "Манхэттенская метрика p = 1, k = 4\n",
            "\n",
            "Предсказание = Чай, Исходное = Чай\n",
            "Предсказание = Чай, Исходное = Чай\n",
            "Предсказание = Чай, Исходное = Чай\n",
            "Предсказание = Чай, Исходное = Чай\n",
            "Предсказание = Чай, Исходное = Чай\n",
            "Предсказание = Чай, Исходное = Чай\n",
            "Предсказание = Чай, Исходное = Кофе\n",
            "Предсказание = Чай, Исходное = Чай\n",
            "Предсказание = Чай, Исходное = Чай\n",
            "Предсказание = Чай, Исходное = Чай\n",
            "Предсказание = Чай, Исходное = Чай\n",
            "Предсказание = Чай, Исходное = Чай\n",
            "Предсказание = Чай, Исходное = Чай\n",
            "Предсказание = Чай, Исходное = Кофе\n",
            "Предсказание = Чай, Исходное = nan\n",
            "Error: 0.19999999999999996\n"
          ]
        }
      ]
    },
    {
      "cell_type": "code",
      "source": [
        "print('Евклидовая метрика p = 2, k = 4') # она же наша оптимальная\n",
        "print()\n",
        "error_ev, pred = predict(2, 4, x_test, x_train)\n",
        "\n",
        "for i in range(0,len(pred)):\n",
        "  print(f'Предсказание = {pred[i]}, Исходное = {x_test[i][9]}')\n",
        "\n",
        "print(f'Error: {error_ev}')"
      ],
      "metadata": {
        "colab": {
          "base_uri": "https://localhost:8080/"
        },
        "id": "qWlWF_66S383",
        "outputId": "bb87df37-90bc-4951-cd1e-20c2152e3f0f"
      },
      "execution_count": 96,
      "outputs": [
        {
          "output_type": "stream",
          "name": "stdout",
          "text": [
            "Евклидовая метрика p = 2, k = 4\n",
            "\n",
            "Предсказание = Чай, Исходное = Чай\n",
            "Предсказание = Чай, Исходное = Чай\n",
            "Предсказание = Чай, Исходное = Чай\n",
            "Предсказание = Чай, Исходное = Чай\n",
            "Предсказание = Чай, Исходное = Чай\n",
            "Предсказание = Чай, Исходное = Чай\n",
            "Предсказание = Кофе, Исходное = Кофе\n",
            "Предсказание = Чай, Исходное = Чай\n",
            "Предсказание = Чай, Исходное = Чай\n",
            "Предсказание = Чай, Исходное = Чай\n",
            "Предсказание = Чай, Исходное = Чай\n",
            "Предсказание = Чай, Исходное = Чай\n",
            "Предсказание = Чай, Исходное = Чай\n",
            "Предсказание = Чай, Исходное = Кофе\n",
            "Предсказание = Чай, Исходное = nan\n",
            "Error: 0.1333333333333333\n"
          ]
        }
      ]
    },
    {
      "cell_type": "code",
      "source": [
        "print('Метрика Миньковского p = 3, k = 4')\n",
        "print()\n",
        "error_mi, pred = predict(3, 4, x_test, x_train)\n",
        "\n",
        "for i in range(0,len(pred)):\n",
        "  print(f'Предсказание = {pred[i]}, Исходное = {x_test[i][9]}')\n",
        "\n",
        "print(f'Error: {error_mi}')"
      ],
      "metadata": {
        "colab": {
          "base_uri": "https://localhost:8080/"
        },
        "id": "Py_el9K6T1KQ",
        "outputId": "8ac54010-b726-472a-badc-8f63fab58eaf"
      },
      "execution_count": 97,
      "outputs": [
        {
          "output_type": "stream",
          "name": "stdout",
          "text": [
            "Метрика Миньковского p = 3, k = 4\n",
            "\n",
            "Предсказание = Чай, Исходное = Чай\n",
            "Предсказание = Чай, Исходное = Чай\n",
            "Предсказание = Чай, Исходное = Чай\n",
            "Предсказание = Чай, Исходное = Чай\n",
            "Предсказание = Чай, Исходное = Чай\n",
            "Предсказание = Чай, Исходное = Чай\n",
            "Предсказание = Кофе, Исходное = Кофе\n",
            "Предсказание = Чай, Исходное = Чай\n",
            "Предсказание = Чай, Исходное = Чай\n",
            "Предсказание = Чай, Исходное = Чай\n",
            "Предсказание = Чай, Исходное = Чай\n",
            "Предсказание = Чай, Исходное = Чай\n",
            "Предсказание = Чай, Исходное = Чай\n",
            "Предсказание = Чай, Исходное = Кофе\n",
            "Предсказание = Чай, Исходное = nan\n",
            "Error: 0.1333333333333333\n"
          ]
        }
      ]
    }
  ]
}